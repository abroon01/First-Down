{
 "cells": [
  {
   "cell_type": "code",
   "execution_count": 11,
   "metadata": {
    "scrolled": true
   },
   "outputs": [
    {
     "name": "stdout",
     "output_type": "stream",
     "text": [
      "4.869769704832955\n",
      "6.90907309425828\n",
      "12.784229390681004\n"
     ]
    }
   ],
   "source": [
    "import numpy as np\n",
    "import pandas as pd\n",
    "df = pd.read_csv('pbp2018.csv', delimiter = ',')\n",
    "\n",
    "\n",
    "df1 = df.loc[df['Down'] == 1]\n",
    "\n",
    "\n",
    "df2 = df1.loc[df1[\"ToGo\"] == 10]\n",
    "\n",
    "\n",
    "runs = df2.loc[df2[\"PlayType\"] == \"RUSH\"]\n",
    "\n",
    "\n",
    "short_passes = df2.loc[df2[\"PassType\"].isin([\"SHORT LEFT\", \"SHORT MIDDLE\", \"SHORT RIGHT\"])]\n",
    "\n",
    "\n",
    "deep_passes = df2.loc[df2[\"PassType\"].isin([\"DEEP LEFT\", \"DEEP MIDDLE\", \"DEEP RIGHT\"])]\n",
    "\n",
    "\n",
    "runs_avg = runs.loc[:,\"Yards\"].mean()\n",
    "print(runs_avg)\n",
    "\n",
    "sp_avg = short_passes[\"Yards\"].mean(axis=0)\n",
    "print(sp_avg)\n",
    "\n",
    "dp_avg = deep_passes[\"Yards\"].mean(axis=0)\n",
    "print(dp_avg)\n",
    "\n",
    "\n"
   ]
  },
  {
   "cell_type": "code",
   "execution_count": null,
   "metadata": {},
   "outputs": [],
   "source": []
  }
 ],
 "metadata": {
  "kernelspec": {
   "display_name": "Python 3",
   "language": "python",
   "name": "python3"
  },
  "language_info": {
   "codemirror_mode": {
    "name": "ipython",
    "version": 3
   },
   "file_extension": ".py",
   "mimetype": "text/x-python",
   "name": "python",
   "nbconvert_exporter": "python",
   "pygments_lexer": "ipython3",
   "version": "3.7.3"
  }
 },
 "nbformat": 4,
 "nbformat_minor": 2
}
